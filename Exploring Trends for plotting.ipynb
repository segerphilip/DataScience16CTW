{
 "cells": [
  {
   "cell_type": "markdown",
   "metadata": {},
   "source": [
    "\n",
    "# Looking  at Trends\n",
    "\n",
    "Finalizing how to represent trends for our MVP. I'm looking to draw specific slopes that will ultimately be positive or negative enough to be useful in predicting the change "
   ]
  },
  {
   "cell_type": "code",
   "execution_count": 1,
   "metadata": {
    "collapsed": false
   },
   "outputs": [
    {
     "name": "stderr",
     "output_type": "stream",
     "text": [
      "/home/mackenzie/anaconda2/lib/python2.7/site-packages/matplotlib/font_manager.py:273: UserWarning: Matplotlib is building the font cache using fc-list. This may take a moment.\n",
      "  warnings.warn('Matplotlib is building the font cache using fc-list. This may take a moment.')\n",
      "/home/mackenzie/anaconda2/lib/python2.7/site-packages/matplotlib/__init__.py:872: UserWarning: axes.color_cycle is deprecated and replaced with axes.prop_cycle; please use the latter.\n",
      "  warnings.warn(self.msg_depr % (key, alt_key))\n"
     ]
    }
   ],
   "source": [
    "import pandas as pd\n",
    "import matplotlib.pyplot as plt\n",
    "import numpy as np\n",
    "import seaborn as sb\n",
    "from mpl_toolkits.mplot3d import Axes3D\n",
    "%matplotlib inline\n",
    "\n",
    "dfAfrica = pd.read_csv(\"africa.csv\")\n",
    "dfAmericas = pd.read_csv(\"americas.csv\")\n",
    "dfEMed = pd.read_csv(\"mediterranean.csv\")\n",
    "dfEurope = pd.read_csv(\"europe.csv\")\n",
    "dfSEAsia = pd.read_csv(\"asia.csv\")\n",
    "dfWPacific = pd.read_csv(\"pacific.csv\")\n",
    "\n",
    "df = [dfAfrica, dfAmericas, dfEMed, dfEurope, dfSEAsia, dfWPacific]\n",
    "\n",
    "result = pd.concat(df)"
   ]
  },
  {
   "cell_type": "code",
   "execution_count": 2,
   "metadata": {
    "collapsed": true
   },
   "outputs": [],
   "source": [
    "def cleanData(data):\n",
    "    data.AGEGROUP.replace((\"AGE100PLUS\", \"AGE95-99\", \"AGE90-94\", \"AGE85-89\", \n",
    "                             \"AGE80-84\", \"AGE75-79\", \"AGE70-74\", \"AGE65-69\", \n",
    "                             \"AGE60-64\", \"AGE55-59\", \"AGE50-54\", \"AGE45-49\", \n",
    "                             \"AGE40-44\", \"AGE35-39\", \"AGE30-34\", \"AGE25-29\", \n",
    "                             \"AGE20-24\", \"AGE15-19\", \"AGE10-14\", \"AGE5-9\", \n",
    "                             \"AGE1-4\", \"AGELT1\"), \n",
    "                          (100.0, 95.0, 90.0, 85.0, 80.0, 75.0, 70.0, 65.0, 60.0, 55.0, 50.0, \n",
    "                             45.0, 40.0, 35.0, 30.0, 25.0, 20.0, 15.0, 10.0, 5.0, 1.0, 0.5), \n",
    "                          inplace = True)\n",
    "    \n",
    "    data.SEX.replace((\"BTSX\", \"FMLE\", \"MLE\"), (2, 1, 0), inplace = True)\n",
    "    \n",
    "    # V not a continuous value, just for ease of referencing this column\n",
    "    data.GHO.replace((\"LIFE_0000000029\", \"LIFE_0000000030\", \"LIFE_0000000031\", \n",
    "                      \"LIFE_0000000032\", \"LIFE_0000000033\", \"LIFE_0000000034\",\n",
    "                      \"LIFE_0000000035\"),\n",
    "                     (29, 30, 31, 32, 33, 34, 35), inplace = True)\n",
    "    \n",
    "    data.drop([\"PUBLISHSTATE\", \"Low\", \"High\", \"Comments\", \"Display Value\"], \n",
    "              inplace = True, axis = 1)\n",
    "    return data"
   ]
  },
  {
   "cell_type": "code",
   "execution_count": 3,
   "metadata": {
    "collapsed": true
   },
   "outputs": [],
   "source": [
    "cleans = cleanData(result)"
   ]
  },
  {
   "cell_type": "markdown",
   "metadata": {},
   "source": [
    "Now that we've cleaned everything and have it ready to go, I want to generate a 2D representation for life expectancy across age groups. To test I'm going to set up A couple short graphs to draw lines of best fit. I realized from my last, 3D representation that there was just too much going on for the visuals to be quickly understood. My ultimate goal here is to make something that is easily interpretable and still informs the viewer. Right now, I'm thinking that this could \"Change the World\" by raising awareness of the unequal living conditions around the world (this should be reflected in life expectancy)"
   ]
  },
  {
   "cell_type": "code",
   "execution_count": 67,
   "metadata": {
    "collapsed": true
   },
   "outputs": [],
   "source": [
    "def regionSeparate(region,cat,age):\n",
    "    #select category values\n",
    "    lifeExpec=result[result.GHO==cat]\n",
    "    #filter for region\n",
    "    regionOnly = lifeExpec[lifeExpec.REGION==region]\n",
    "    # only looking at both sexes life expectancy\n",
    "    bSexLE= regionOnly[regionOnly.SEX == 2]\n",
    "    #filter by age groups \n",
    "    agefilt = bSexLE[bSexLE.AGEGROUP== age]\n",
    "    agefilt.sort_index(by = [\"YEAR\"], ascending = True, inplace = True)\n",
    "    return agefilt"
   ]
  },
  {
   "cell_type": "code",
   "execution_count": 41,
   "metadata": {
    "collapsed": false
   },
   "outputs": [
    {
     "name": "stdout",
     "output_type": "stream",
     "text": [
      "      GHO  YEAR REGION  AGEGROUP  SEX   Numeric\n",
      "79     35  1990    EUR       0.5    2  71.58941\n",
      "376    35  2012    EUR       0.5    2  76.05590\n",
      "1189   35  2000    EUR       0.5    2  72.39940\n",
      "1445   35  2013    EUR       0.5    2  76.22755\n"
     ]
    }
   ],
   "source": [
    "cat =35\n",
    "age =0.5\n",
    "afdf = regionSeparate('AFR',cat,age)\n",
    "amdf = regionSeparate('AMR',cat,age)\n",
    "emdf = regionSeparate('EMR',cat,age) #Eastern Mediterranean\n",
    "eudf = regionSeparate('EUR',cat,age) # europe\n",
    "print eudf.head()\n",
    "wpdf = regionSeparate('WPR',cat,age) #Western Pacific\n",
    "seadf = regionSeparate('SEAR',cat,age) #South-East Asia"
   ]
  },
  {
   "cell_type": "code",
   "execution_count": 49,
   "metadata": {
    "collapsed": false,
    "scrolled": true
   },
   "outputs": [],
   "source": [
    "#put in year, numeric value \n",
    "def scattersPlots(age,title,africadf,americadf,emeddf,eurodf,wpacifdf,seasiadf):\n",
    "    fig = plt.figure()\n",
    "    ax1=fig.add_subplot(111)\n",
    "\n",
    "    ax1.scatter(africadf.YEAR.values,africadf.Numeric.values, c='b', label ='Africa')\n",
    "    ax1.scatter(americadf.YEAR.values, americadf.Numeric.values, c= 'r', label = 'Americas')\n",
    "    ax1.scatter(emeddf.YEAR.values, emeddf.Numeric.values, c= 'y', label = 'E Mediterranean')\n",
    "    ax1.scatter(eurodf.YEAR.values, eurodf.Numeric.values, c= 'c', label = 'Europe')\n",
    "    ax1.scatter(wpacifdf.YEAR.values, wpacifdf.Numeric.values, c= 'g', label = 'W Pacific')\n",
    "    ax1.scatter(seasiadf.YEAR.values, seasiadf.Numeric.values, c= 'm', label = 'SE Asia')\n",
    "    plt.legend(loc='center left', bbox_to_anchor=(1, 0.5))\n",
    "    plt.title(title)\n",
    "    plt.show()"
   ]
  },
  {
   "cell_type": "code",
   "execution_count": 42,
   "metadata": {
    "collapsed": false,
    "scrolled": false
   },
   "outputs": [
    {
     "data": {
      "image/png": "[encoded data removed]",
      "text/plain": [
       "<matplotlib.figure.Figure at 0x7ff02f601090>"
      ]
     },
     "metadata": {},
     "output_type": "display_data"
    }
   ],
   "source": [
    "scattersPlots(age, 'Life expectancy of '+ str(age)+' year olds over time')"
   ]
  },
  {
   "cell_type": "markdown",
   "metadata": {},
   "source": [
    "I'm noticing that no matter the age group, most countries are generally increasing in life expectancy and also regions tend to follow the same dispersion/ranking. Africa is always at the bottom, for example. I want to look at other categories and see if there are more change-ups"
   ]
  },
  {
   "cell_type": "code",
   "execution_count": 62,
   "metadata": {
    "collapsed": true
   },
   "outputs": [],
   "source": [
    "#put in year, numeric value \n",
    "def manyPlots(age,title,africadf,americadf,emeddf,eurodf,wpacifdf,seasiadf):\n",
    "    fig = plt.figure()\n",
    "    ax1=fig.add_subplot(111)\n",
    "\n",
    "    ax1.plot(africadf.YEAR.values,africadf.Numeric.values, c='b', label ='Africa')\n",
    "    ax1.plot(americadf.YEAR.values, americadf.Numeric.values, c= 'r', label = 'Americas')\n",
    "    ax1.plot(emeddf.YEAR.values, emeddf.Numeric.values, c= 'y', label = 'E Mediterranean')\n",
    "    ax1.plot(eurodf.YEAR.values, eurodf.Numeric.values, c= 'c', label = 'Europe')\n",
    "    ax1.plot(wpacifdf.YEAR.values, wpacifdf.Numeric.values, c= 'g', label = 'W Pacific')\n",
    "    ax1.plot(seasiadf.YEAR.values, seasiadf.Numeric.values, c= 'm', label = 'SE Asia')\n",
    "    plt.legend(loc='center left', bbox_to_anchor=(1, 0.5))\n",
    "    plt.title(title)\n",
    "    plt.show()"
   ]
  },
  {
   "cell_type": "code",
   "execution_count": 63,
   "metadata": {
    "collapsed": true
   },
   "outputs": [],
   "source": [
    "def multiplots(cate,age, title):\n",
    "    afdf = regionSeparate('AFR',cate,age)\n",
    "    print afdf.head()\n",
    "    amdf = regionSeparate('AMR',cate,age)#america\n",
    "    print amdf.head()\n",
    "    emdf = regionSeparate('EMR',cate,age) #Eastern Mediterranean\n",
    "    eudf = regionSeparate('EUR',cate,age) # europe\n",
    "    wpdf = regionSeparate('WPR',cate,age) #Western Pacific\n",
    "    seadf = regionSeparate('SEAR',cate,age) #South-East Asia\n",
    "    manyPlots(age, title, afdf,amdf,emdf,eudf,wpdf,seadf)"
   ]
  },
  {
   "cell_type": "code",
   "execution_count": 68,
   "metadata": {
    "collapsed": false,
    "scrolled": true
   },
   "outputs": [
    {
     "name": "stderr",
     "output_type": "stream",
     "text": [
      "/home/mackenzie/anaconda2/lib/python2.7/site-packages/ipykernel/__main__.py:10: FutureWarning: by argument to sort_index is deprecated, pls use .sort_values(by=...)\n",
      "/home/mackenzie/anaconda2/lib/python2.7/site-packages/pandas/core/frame.py:3179: SettingWithCopyWarning: \n",
      "A value is trying to be set on a copy of a slice from a DataFrame\n",
      "\n",
      "See the caveats in the documentation: http://pandas.pydata.org/pandas-docs/stable/indexing.html#indexing-view-versus-copy\n",
      "  return self.sort_values(by, axis=axis, ascending=ascending, inplace=inplace)\n"
     ]
    },
    {
     "name": "stdout",
     "output_type": "stream",
     "text": [
      "      GHO  YEAR REGION  AGEGROUP  SEX  Numeric\n",
      "69     30  1990    AFR        15    2  0.02039\n",
      "488    30  2000    AFR        15    2  0.01826\n",
      "637    30  2012    AFR        15    2  0.01528\n",
      "1679   30  2013    AFR        15    2  0.01499\n",
      "      GHO  YEAR REGION  AGEGROUP  SEX  Numeric\n",
      "503    30  1990    AMR        15    2  0.00565\n",
      "356    30  2000    AMR        15    2  0.00495\n",
      "1129   30  2012    AMR        15    2  0.00470\n",
      "17     30  2013    AMR        15    2  0.00436\n"
     ]
    },
    {
     "data": {
      "image/png": "[encoded data removed]",
      "text/plain": [
       "<matplotlib.figure.Figure at 0x7ff02ee8ef10>"
      ]
     },
     "metadata": {},
     "output_type": "display_data"
    }
   ],
   "source": [
    "multiplots(30,15,'Probability of dying before the next age group')"
   ]
  },
  {
   "cell_type": "markdown",
   "metadata": {},
   "source": [
    "Probability of dying before the next age group is much more interesting and looks to vary more here than in other categories. I see switching between europe and america as regions where you are less likely to die in the next five years "
   ]
  },
  {
   "cell_type": "code",
   "execution_count": null,
   "metadata": {
    "collapsed": true
   },
   "outputs": [],
   "source": []
  }
 ],
 "metadata": {
  "kernelspec": {
   "display_name": "Python 2",
   "language": "python",
   "name": "python2"
  },
  "language_info": {
   "codemirror_mode": {
    "name": "ipython",
    "version": 2
   },
   "file_extension": ".py",
   "mimetype": "text/x-python",
   "name": "python",
   "nbconvert_exporter": "python",
   "pygments_lexer": "ipython2",
   "version": "2.7.11"
  }
 },
 "nbformat": 4,
 "nbformat_minor": 0
}
