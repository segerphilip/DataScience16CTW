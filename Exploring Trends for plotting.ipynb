{
 "cells": [
  {
   "cell_type": "markdown",
   "metadata": {},
   "source": [
    "\n",
    "# Looking  at Trends\n",
    "\n",
    "Finalizing how to represent trends for our MVP. I'm looking to draw specific slopes that will ultimately be positive or negative enough to be useful in predicting the change "
   ]
  },
  {
   "cell_type": "code",
   "execution_count": 6,
   "metadata": {
    "collapsed": false
   },
   "outputs": [
    {
     "name": "stderr",
     "output_type": "stream",
     "text": [
      "/home/mackenzie/anaconda2/lib/python2.7/site-packages/matplotlib/__init__.py:872: UserWarning: axes.color_cycle is deprecated and replaced with axes.prop_cycle; please use the latter.\n",
      "  warnings.warn(self.msg_depr % (key, alt_key))\n"
     ]
    }
   ],
   "source": [
    "import pandas as pd\n",
    "import matplotlib.pyplot as plt\n",
    "import numpy as np\n",
    "import seaborn as sb\n",
    "from mpl_toolkits.mplot3d import Axes3D\n",
    "%matplotlib inline\n",
    "\n",
    "dfAfrica = pd.read_csv(\"africa.csv\")\n",
    "dfAmericas = pd.read_csv(\"americas.csv\")\n",
    "dfEMed = pd.read_csv(\"mediterranean.csv\")\n",
    "dfEurope = pd.read_csv(\"europe.csv\")\n",
    "dfSEAsia = pd.read_csv(\"asia.csv\")\n",
    "dfWPacific = pd.read_csv(\"pacific.csv\")\n",
    "\n",
    "df = [dfAfrica, dfAmericas, dfEMed, dfEurope, dfSEAsia, dfWPacific]\n",
    "\n",
    "result = pd.concat(df)"
   ]
  },
  {
   "cell_type": "code",
   "execution_count": 7,
   "metadata": {
    "collapsed": true
   },
   "outputs": [],
   "source": [
    "def cleanData(data):\n",
    "    data.AGEGROUP.replace((\"AGE100PLUS\", \"AGE95-99\", \"AGE90-94\", \"AGE85-89\", \n",
    "                             \"AGE80-84\", \"AGE75-79\", \"AGE70-74\", \"AGE65-69\", \n",
    "                             \"AGE60-64\", \"AGE55-59\", \"AGE50-54\", \"AGE45-49\", \n",
    "                             \"AGE40-44\", \"AGE35-39\", \"AGE30-34\", \"AGE25-29\", \n",
    "                             \"AGE20-24\", \"AGE15-19\", \"AGE10-14\", \"AGE5-9\", \n",
    "                             \"AGE1-4\", \"AGELT1\"), \n",
    "                          (100.0, 95.0, 90.0, 85.0, 80.0, 75.0, 70.0, 65.0, 60.0, 55.0, 50.0, \n",
    "                             45.0, 40.0, 35.0, 30.0, 25.0, 20.0, 15.0, 10.0, 5.0, 1.0, 0.5), \n",
    "                          inplace = True)\n",
    "    \n",
    "    data.SEX.replace((\"BTSX\", \"FMLE\", \"MLE\"), (2, 1, 0), inplace = True)\n",
    "    \n",
    "    # V not a continuous value, just for ease of referencing this column\n",
    "    data.GHO.replace((\"LIFE_0000000029\", \"LIFE_0000000030\", \"LIFE_0000000031\", \n",
    "                      \"LIFE_0000000032\", \"LIFE_0000000033\", \"LIFE_0000000034\",\n",
    "                      \"LIFE_0000000035\"),\n",
    "                     (29, 30, 31, 32, 33, 34, 35), inplace = True)\n",
    "    \n",
    "    data.drop([\"PUBLISHSTATE\", \"Low\", \"High\", \"Comments\", \"Display Value\"], \n",
    "              inplace = True, axis = 1)\n",
    "    return data"
   ]
  },
  {
   "cell_type": "code",
   "execution_count": 8,
   "metadata": {
    "collapsed": true
   },
   "outputs": [],
   "source": [
    "cleans = cleanData(result)"
   ]
  },
  {
   "cell_type": "markdown",
   "metadata": {},
   "source": [
    "Now that we've cleaned everything and have it ready to go, I want to generate a 2D representation for life expectancy across age groups. To test I'm going to set up A couple short graphs to draw lines of best fit. I realized from my last, 3D representation that there was just too much going on for the visuals to be quickly understood. My ultimate goal here is to make something that is easily interpretable and still informs the viewer. Right now, I'm thinking that this could \"Change the World\" by raising awareness of the unequal living conditions around the world (this should be reflected in life expectancy)"
   ]
  },
  {
   "cell_type": "code",
   "execution_count": 9,
   "metadata": {
    "collapsed": true
   },
   "outputs": [],
   "source": [
    "def regionSeparate(region,cat,age):\n",
    "    #select category values\n",
    "    lifeExpec=result[result.GHO==cat]\n",
    "    #filter for region\n",
    "    regionOnly = lifeExpec[lifeExpec.REGION==region]\n",
    "    # only looking at both sexes life expectancy\n",
    "    bSexLE= regionOnly[regionOnly.SEX == 2]\n",
    "    #filter by age groups \n",
    "    agefilt = bSexLE[bSexLE.AGEGROUP== age]\n",
    "    return agefilt"
   ]
  },
  {
   "cell_type": "code",
   "execution_count": 25,
   "metadata": {
    "collapsed": false
   },
   "outputs": [
    {
     "name": "stdout",
     "output_type": "stream",
     "text": [
      "      GHO  YEAR REGION  AGEGROUP  SEX  Numeric\n",
      "327    35  2012    EUR        80    2  8.39806\n",
      "374    35  1990    EUR        80    2  7.22295\n",
      "815    35  2013    EUR        80    2  8.49488\n",
      "1451   35  2000    EUR        80    2  7.65254\n"
     ]
    }
   ],
   "source": [
    "cat =35\n",
    "age =100\n",
    "afdf = regionSeparate('AFR',cat,age)\n",
    "amdf = regionSeparate('AMR',cat,age)\n",
    "emdf = regionSeparate('EMR',cat,age) #Eastern Mediterranean\n",
    "eudf = regionSeparate('EUR',cat,age) # europe\n",
    "print eudf.head()\n",
    "wpdf = regionSeparate('WPR',cat,age) #Western Pacific\n",
    "seadf = regionSeparate('SEAR',cat,age) #South-East Asia"
   ]
  },
  {
   "cell_type": "code",
   "execution_count": 28,
   "metadata": {
    "collapsed": false,
    "scrolled": true
   },
   "outputs": [
    {
     "data": {
      "image/png": "[encoded data removed]",
      "text/plain": [
       "<matplotlib.figure.Figure at 0x7fb3348da4d0>"
      ]
     },
     "metadata": {},
     "output_type": "display_data"
    }
   ],
   "source": [
    "#put in year, numeric value \n",
    "fig = plt.figure()\n",
    "ax1=fig.add_subplot(111)\n",
    "\n",
    "ax1.scatter(afdf.YEAR.values,afdf.Numeric.values, c='b', label ='Africa')\n",
    "ax1.scatter(amdf.YEAR.values, amdf.Numeric.values, c= 'r', label = 'Americas')\n",
    "ax1.scatter(emdf.YEAR.values, emdf.Numeric.values, c= 'y', label = 'E Mediterranean')\n",
    "ax1.scatter(eudf.YEAR.values, eudf.Numeric.values, c= 'c', label = 'Europe')\n",
    "ax1.scatter(wpdf.YEAR.values, wpdf.Numeric.values, c= 'g', label = 'W Pacific')\n",
    "ax1.scatter(seadf.YEAR.values, seadf.Numeric.values, c= 'm', label = 'SE Asia')\n",
    "plt.legend()\n",
    "plt.title('Life expectancy of different age groups over time')\n",
    "plt.show()"
   ]
  },
  {
   "cell_type": "markdown",
   "metadata": {},
   "source": [
    "I'm noticing that no matter the age group, most countries are generally increasing in life expectancy and also regions tend to follow the same dispersion/ranking. Africa is always at the bottom, for example. I want to look at other categories and see if there are more change-ups"
   ]
  },
  {
   "cell_type": "code",
   "execution_count": null,
   "metadata": {
    "collapsed": true
   },
   "outputs": [],
   "source": []
  }
 ],
 "metadata": {
  "kernelspec": {
   "display_name": "Python 2",
   "language": "python",
   "name": "python2"
  },
  "language_info": {
   "codemirror_mode": {
    "name": "ipython",
    "version": 2
   },
   "file_extension": ".py",
   "mimetype": "text/x-python",
   "name": "python",
   "nbconvert_exporter": "python",
   "pygments_lexer": "ipython2",
   "version": "2.7.11"
  }
 },
 "nbformat": 4,
 "nbformat_minor": 0
}
