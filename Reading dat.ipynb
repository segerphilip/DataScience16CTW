{
 "cells": [
  {
   "cell_type": "markdown",
   "metadata": {},
   "source": [
    "# Reading NIH data file\n",
    "This is an example implementation of reading the `nispuf14.dat` file."
   ]
  },
  {
   "cell_type": "code",
   "execution_count": 7,
   "metadata": {
    "collapsed": false
   },
   "outputs": [
    {
     "name": "stdout",
     "output_type": "stream",
     "text": [
      "            0                   1                   2                   3    \\\n",
      "0  000021000021  806.84601169505000  806.84601169505000  454.86041741251200   \n",
      "1  000031000032                   .                   .   30.54542540283290   \n",
      "2  000041000041   63.44868567610260   63.44868567610260   36.96593137368630   \n",
      "3  000051000051   94.87263225744540   94.87263225744540   64.62020426239790   \n",
      "4  000052000051  152.27384456301200  152.27384456301200   85.21941283402750   \n",
      "\n",
      "                           4                               5    \\\n",
      "0  454.8604174125120020362014.                             222   \n",
      "1   30.5454254028329010722014.             222152.1875152.1875   \n",
      "2   36.9659313736863020162014.  221334.8125182.6250273.9375..4   \n",
      "3   64.6202042623979010732014.                             223   \n",
      "4   85.2194128340275010732014.                             221   \n",
      "\n",
      "               6           7    8                             9    ...    136  \\\n",
      "0  91.3125121.7500  91.3125..6    1                           123  ...   None   \n",
      "1       91.3125..6           1  143                             1  ...   None   \n",
      "2                1         112    2  .4123.0000000000000011421312  ...   None   \n",
      "3                .           .    .                           ..8  ...   None   \n",
      "4                .           .    .                           ..8  ...      2   \n",
      "\n",
      "    137   138   139   140   141   142   143   144   145  \n",
      "0  None  None  None  None  None  None  None  None  None  \n",
      "1  None  None  None  None  None  None  None  None  None  \n",
      "2  None  None  None  None  None  None  None  None  None  \n",
      "3  None  None  None  None  None  None  None  None  None  \n",
      "4     1  None  None  None  None  None  None  None  None  \n",
      "\n",
      "[5 rows x 146 columns]\n",
      "                 0      1      2      3      4      5      6      7      8    \\\n",
      "count          24896  24896  24896  24896  24896  24896  24896  24896  24896   \n",
      "unique         24896  13737  13754  16778  16627   4122    799    711    469   \n",
      "top     115302115301      .      .      .      .    223      .      .      2   \n",
      "freq               1  10003   9997    608    415   3806   7405   5710   6829   \n",
      "\n",
      "          9   ...   136   137   138  139  140  141 142 143 144 145  \n",
      "count   24896 ...  8088  5163  2646  954  323  148  70  20   4   2  \n",
      "unique   3123 ...    23    10     7    5    5    4   3   3   2   1  \n",
      "top         1 ...     .     .     .    2    2    2   2   2   2   2  \n",
      "freq     2941 ...  3824  2503  1273  497  230  120  50  12   3   2  \n",
      "\n",
      "[4 rows x 146 columns]\n"
     ]
    }
   ],
   "source": [
    "import pandas as pd\n",
    "\n",
    "# df = pd.read_csv(\"nispuf14.dat\", sep=\"\\s+\", header=None, skiprows=1)\n",
    "with open('nispuf14.dat', 'r') as f:\n",
    "    next(f) # skip first row\n",
    "    df = pd.DataFrame(l.rstrip().split() for l in f)\n",
    "\n",
    "print df.head()\n",
    "print df.describe()"
   ]
  },
  {
   "cell_type": "code",
   "execution_count": null,
   "metadata": {
    "collapsed": true
   },
   "outputs": [],
   "source": []
  }
 ],
 "metadata": {
  "kernelspec": {
   "display_name": "Python 2",
   "language": "python",
   "name": "python2"
  },
  "language_info": {
   "codemirror_mode": {
    "name": "ipython",
    "version": 2
   },
   "file_extension": ".py",
   "mimetype": "text/x-python",
   "name": "python",
   "nbconvert_exporter": "python",
   "pygments_lexer": "ipython2",
   "version": "2.7.10"
  }
 },
 "nbformat": 4,
 "nbformat_minor": 0
}
