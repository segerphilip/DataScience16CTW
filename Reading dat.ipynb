{
 "cells": [
  {
   "cell_type": "markdown",
   "metadata": {},
   "source": [
    "# Reading NIH data file\n",
    "This is an example implementation of reading the `nispuf14.dat` file."
   ]
  },
  {
   "cell_type": "code",
   "execution_count": 1,
   "metadata": {
    "collapsed": false
   },
   "outputs": [
    {
     "name": "stdout",
     "output_type": "stream",
     "text": [
      "               GHO PUBLISHSTATE  YEAR REGION    AGEGROUP   SEX  Display Value  \\\n",
      "0  LIFE_0000000033    PUBLISHED  1990    AFR  AGE100PLUS  BTSX           60.0   \n",
      "1  LIFE_0000000035    PUBLISHED  2013    AFR    AGE85-89  BTSX            4.1   \n",
      "2  LIFE_0000000035    PUBLISHED  2000    AFR    AGE55-59  BTSX           18.8   \n",
      "3  LIFE_0000000032    PUBLISHED  2012    AFR    AGE45-49  FMLE         3411.0   \n",
      "4  LIFE_0000000035    PUBLISHED  1990    AFR    AGE25-29   MLE           38.8   \n",
      "\n",
      "      Numeric  Low  High  Comments  \n",
      "0    60.01235  NaN   NaN       NaN  \n",
      "1     4.14085  NaN   NaN       NaN  \n",
      "2    18.76440  NaN   NaN       NaN  \n",
      "3  3410.96100  NaN   NaN       NaN  \n",
      "4    38.79806  NaN   NaN       NaN  \n"
     ]
    }
   ],
   "source": [
    "import pandas as pd\n",
    "\n",
    "dfAfrica = pd.read_csv(\"datasets/africa.csv\")\n",
    "dfAmericas = pd.read_csv(\"datasets/americas.csv\")\n",
    "dfEMed = pd.read_csv(\"datasets/mediterranean.csv\")\n",
    "dfEurope = pd.read_csv(\"datasets/europe.csv\")\n",
    "dfSEAsia = pd.read_csv(\"datasets/asia.csv\")\n",
    "dfWPacific = pd.read_csv(\"datasets/pacific.csv\")\n",
    "\n",
    "df = [dfAfrica, dfAmericas, dfEMed, dfEurope, dfSEAsia, dfWPacific]\n",
    "\n",
    "result = pd.concat(df)\n",
    "\n",
    "print result.head()"
   ]
  },
  {
   "cell_type": "markdown",
   "metadata": {
    "collapsed": true
   },
   "source": [
    "We got data. Now need to fix the weird symbols in Age column."
   ]
  },
  {
   "cell_type": "code",
   "execution_count": 2,
   "metadata": {
    "collapsed": false
   },
   "outputs": [],
   "source": [
    "def cleanData(data):\n",
    "    data.AGEGROUP.replace((\"AGE100PLUS\", \"AGE95-99\", \"AGE90-94\", \"AGE85-89\", \n",
    "                             \"AGE80-84\", \"AGE75-79\", \"AGE70-74\", \"AGE65-69\", \n",
    "                             \"AGE60-64\", \"AGE55-59\", \"AGE50-54\", \"AGE45-49\", \n",
    "                             \"AGE40-44\", \"AGE35-39\", \"AGE30-34\", \"AGE25-29\", \n",
    "                             \"AGE20-24\", \"AGE15-19\", \"AGE10-14\", \"AGE5-9\", \n",
    "                             \"AGE1-4\", \"AGELT1\"), \n",
    "                          (100, 95, 90, 85, 80, 75, 70, 65, 60, 55, 50, \n",
    "                             45, 40, 35, 30, 25, 20, 15, 10, 5, 1, 0.5), \n",
    "                          inplace = True)\n",
    "    \n",
    "    data.SEX.replace((\"BTSX\", \"FMLE\", \"MLE\"), (2, 1, 0), inplace = True)\n",
    "    \n",
    "    # V not a continuous value, just for ease of referencing this column\n",
    "    data.GHO.replace((\"LIFE_0000000029\", \"LIFE_0000000030\", \"LIFE_0000000031\", \n",
    "                      \"LIFE_0000000032\", \"LIFE_0000000033\", \"LIFE_0000000034\",\n",
    "                      \"LIFE_0000000035\"),\n",
    "                     (29, 30, 31, 32, 33, 34, 35), inplace = True)\n",
    "    \n",
    "    data.drop([\"PUBLISHSTATE\", \"Low\", \"High\", \"Comments\", \"Display Value\"], \n",
    "              inplace = True, axis = 1)"
   ]
  },
  {
   "cell_type": "markdown",
   "metadata": {},
   "source": [
    "Meanings of values in GHO column:\n",
    "\n",
    "29  nMx - age-specific death rate between ages x and x+n\n",
    "30  nqx - probability of dying between ages x and x+n\n",
    "31  lx - number of people left alive at age x\n",
    "32  ndx - number of people dying between ages x and x+n\n",
    "33  nLx - person-years lived between ages x and x+n\n",
    "34  Tx - person-years lived above age x\n",
    "35  ex - expectation of life at age x"
   ]
  },
  {
   "cell_type": "code",
   "execution_count": 3,
   "metadata": {
    "collapsed": false
   },
   "outputs": [
    {
     "name": "stdout",
     "output_type": "stream",
     "text": [
      "   GHO  YEAR REGION  AGEGROUP  SEX     Numeric\n",
      "0   33  1990    AFR       100    2    60.01235\n",
      "1   35  2013    AFR        85    2     4.14085\n",
      "2   35  2000    AFR        55    2    18.76440\n",
      "3   32  2012    AFR        45    1  3410.96100\n",
      "4   35  1990    AFR        25    0    38.79806\n"
     ]
    }
   ],
   "source": [
    "cleanData(result)\n",
    "print result.head()"
   ]
  }
 ],
 "metadata": {
  "kernelspec": {
   "display_name": "Python 2",
   "language": "python",
   "name": "python2"
  },
  "language_info": {
   "codemirror_mode": {
    "name": "ipython",
    "version": 2
   },
   "file_extension": ".py",
   "mimetype": "text/x-python",
   "name": "python",
   "nbconvert_exporter": "python",
   "pygments_lexer": "ipython2",
   "version": "2.7.10"
  }
 },
 "nbformat": 4,
 "nbformat_minor": 0
}
