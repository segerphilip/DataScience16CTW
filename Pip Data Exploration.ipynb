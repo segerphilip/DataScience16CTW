{
 "cells": [
  {
   "cell_type": "markdown",
   "metadata": {},
   "source": [
    "# Reading NIH data file\n",
    "This is an example implementation of reading the `nispuf14.dat` file."
   ]
  },
  {
   "cell_type": "code",
   "execution_count": 7,
   "metadata": {
    "collapsed": false
   },
   "outputs": [
    {
     "name": "stdout",
     "output_type": "stream",
     "text": [
      "               GHO PUBLISHSTATE  YEAR REGION    AGEGROUP   SEX  Display Value  \\\n",
      "0  LIFE_0000000033    PUBLISHED  1990    AFR  AGE100PLUS  BTSX           60.0   \n",
      "1  LIFE_0000000035    PUBLISHED  2013    AFR    AGE85-89  BTSX            4.1   \n",
      "2  LIFE_0000000035    PUBLISHED  2000    AFR    AGE55-59  BTSX           18.8   \n",
      "3  LIFE_0000000032    PUBLISHED  2012    AFR    AGE45-49  FMLE         3411.0   \n",
      "4  LIFE_0000000035    PUBLISHED  1990    AFR    AGE25-29   MLE           38.8   \n",
      "\n",
      "      Numeric  Low  High  Comments  \n",
      "0    60.01235  NaN   NaN       NaN  \n",
      "1     4.14085  NaN   NaN       NaN  \n",
      "2    18.76440  NaN   NaN       NaN  \n",
      "3  3410.96100  NaN   NaN       NaN  \n",
      "4    38.79806  NaN   NaN       NaN  \n"
     ]
    }
   ],
   "source": [
    "import pandas as pd\n",
    "\n",
    "dfAfrica = pd.read_csv(\"africa.csv\")\n",
    "dfAmericas = pd.read_csv(\"americas.csv\")\n",
    "dfEMed = pd.read_csv(\"mediterranean.csv\")\n",
    "dfEurope = pd.read_csv(\"europe.csv\")\n",
    "dfSEAsia = pd.read_csv(\"asia.csv\")\n",
    "dfWPacific = pd.read_csv(\"pacific.csv\")\n",
    "\n",
    "df = [dfAfrica, dfAmericas, dfEMed, dfEurope, dfSEAsia, dfWPacific]\n",
    "\n",
    "result = pd.concat(df)\n",
    "\n",
    "print result.head()"
   ]
  },
  {
   "cell_type": "markdown",
   "metadata": {
    "collapsed": true
   },
   "source": [
    "We got data. Now need to fix the weird symbols in Age column."
   ]
  },
  {
   "cell_type": "code",
   "execution_count": 8,
   "metadata": {
    "collapsed": false
   },
   "outputs": [],
   "source": [
    "def cleanData(data):\n",
    "    data.AGEGROUP.replace((\"AGE100PLUS\", \"AGE95-99\", \"AGE90-94\", \"AGE85-89\", \n",
    "                             \"AGE80-84\", \"AGE75-79\", \"AGE70-74\", \"AGE65-69\", \n",
    "                             \"AGE60-64\", \"AGE55-59\", \"AGE50-54\", \"AGE45-49\", \n",
    "                             \"AGE40-44\", \"AGE35-39\", \"AGE30-34\", \"AGE25-29\", \n",
    "                             \"AGE20-24\", \"AGE15-19\", \"AGE10-14\", \"AGE5-9\", \n",
    "                             \"AGE1-4\", \"AGELT1\"), \n",
    "                          (100, 95, 90, 85, 80, 75, 70, 65, 60, 55, 50, \n",
    "                             45, 40, 35, 30, 25, 20, 15, 10, 5, 1, 0.5), \n",
    "                          inplace = True)\n",
    "    \n",
    "    data.SEX.replace((\"BTSX\", \"FMLE\", \"MLE\"), (2, 1, 0), inplace = True)\n",
    "    \n",
    "    # V not a continuous value, just for ease of referencing this column\n",
    "    data.GHO.replace((\"LIFE_0000000029\", \"LIFE_0000000030\", \"LIFE_0000000031\", \n",
    "                      \"LIFE_0000000032\", \"LIFE_0000000033\", \"LIFE_0000000034\",\n",
    "                      \"LIFE_0000000035\"),\n",
    "                     (29, 30, 31, 32, 33, 34, 35), inplace = True)\n",
    "    \n",
    "    data.drop([\"PUBLISHSTATE\", \"Low\", \"High\", \"Comments\", \"Display Value\"], \n",
    "              inplace = True, axis = 1)"
   ]
  },
  {
   "cell_type": "markdown",
   "metadata": {},
   "source": [
    "Meanings of values in GHO column:\n",
    "\n",
    "29  nMx - age-specific death rate between ages x and x+n\n",
    "\n",
    "30  nqx - probability of dying between ages x and x+n\n",
    "\n",
    "31  lx - number of people left alive at age x\n",
    "\n",
    "32  ndx - number of people dying between ages x and x+n\n",
    "\n",
    "33  nLx - person-years lived between ages x and x+n\n",
    "\n",
    "34  Tx - person-years lived above age x\n",
    "\n",
    "35  ex - expectation of life at age x"
   ]
  },
  {
   "cell_type": "code",
   "execution_count": 9,
   "metadata": {
    "collapsed": false
   },
   "outputs": [
    {
     "name": "stdout",
     "output_type": "stream",
     "text": [
      "   GHO  YEAR REGION  AGEGROUP  SEX     Numeric\n",
      "0   33  1990    AFR       100    2    60.01235\n",
      "1   35  2013    AFR        85    2     4.14085\n",
      "2   35  2000    AFR        55    2    18.76440\n",
      "3   32  2012    AFR        45    1  3410.96100\n",
      "4   35  1990    AFR        25    0    38.79806\n"
     ]
    }
   ],
   "source": [
    "cleanData(result)\n",
    "print result.head()"
   ]
  },
  {
   "cell_type": "markdown",
   "metadata": {},
   "source": [
    "Now let's graph some stuff."
   ]
  },
  {
   "cell_type": "code",
   "execution_count": 20,
   "metadata": {
    "collapsed": false
   },
   "outputs": [],
   "source": [
    "import matplotlib as mpl\n",
    "import seaborn as sb\n",
    "import matplotlib.pyplot as plt\n",
    "import numpy as np\n",
    "%matplotlib inline"
   ]
  },
  {
   "cell_type": "markdown",
   "metadata": {},
   "source": [
    "Mackenzie is interested in trends across years by region. Philip is interested in comparing metric 31 and 32."
   ]
  },
  {
   "cell_type": "code",
   "execution_count": 46,
   "metadata": {
    "collapsed": false
   },
   "outputs": [
    {
     "name": "stdout",
     "output_type": "stream",
     "text": [
      "10         314.1324\n",
      "13       81420.5900\n",
      "40      100000.0000\n",
      "52       62537.9000\n",
      "54       80150.1100\n",
      "57       93351.2200\n",
      "67       79997.6300\n",
      "68       74868.9500\n",
      "70        5313.7690\n",
      "80       62175.7900\n",
      "91        4545.5320\n",
      "92       38250.9100\n",
      "102      80164.7700\n",
      "116       6343.5890\n",
      "123      66182.6000\n",
      "138      82157.2800\n",
      "140        357.6827\n",
      "146      78629.4400\n",
      "147      40086.8700\n",
      "150      59412.5200\n",
      "159      47672.0800\n",
      "163      87950.5700\n",
      "164      12252.8200\n",
      "177      68470.4500\n",
      "179      76115.9800\n",
      "181      57513.0600\n",
      "190        984.5369\n",
      "195      58588.0500\n",
      "203      82183.2700\n",
      "208      65814.2700\n",
      "           ...     \n",
      "1645     96581.2700\n",
      "1646     20382.1700\n",
      "1653    100000.0000\n",
      "1678      3411.8250\n",
      "1687     10468.7700\n",
      "1700     80086.8400\n",
      "1701    100000.0000\n",
      "1702     49791.1500\n",
      "1714     96180.7600\n",
      "1722     55431.4800\n",
      "1724     94532.1600\n",
      "1736     15164.4500\n",
      "1746     96242.2300\n",
      "1753     90553.3300\n",
      "1765     98369.3500\n",
      "1766     24119.6200\n",
      "1773     41985.3600\n",
      "1775      2656.9190\n",
      "1785     88566.8800\n",
      "1793     97196.1300\n",
      "1798     93401.3400\n",
      "1799     95555.1300\n",
      "1800     96474.9800\n",
      "1803     96741.3300\n",
      "1808     98130.8400\n",
      "1816     91690.4800\n",
      "1827     95951.8400\n",
      "1833     12118.6000\n",
      "1842     97162.1200\n",
      "1847     86474.5700\n",
      "Name: Numeric, dtype: float64\n",
      "10      95.0\n",
      "13      10.0\n",
      "40       0.5\n",
      "52      45.0\n",
      "54      35.0\n",
      "57       1.0\n",
      "67      10.0\n",
      "68      25.0\n",
      "70      85.0\n",
      "80      50.0\n",
      "91      90.0\n",
      "92      75.0\n",
      "102     15.0\n",
      "116     85.0\n",
      "123     55.0\n",
      "138     30.0\n",
      "140     95.0\n",
      "146     15.0\n",
      "147     65.0\n",
      "150     60.0\n",
      "159     70.0\n",
      "163     10.0\n",
      "164     85.0\n",
      "177     40.0\n",
      "179     25.0\n",
      "181     65.0\n",
      "190     95.0\n",
      "195     50.0\n",
      "203     10.0\n",
      "208     55.0\n",
      "        ... \n",
      "1645    40.0\n",
      "1646    85.0\n",
      "1653     0.5\n",
      "1678    95.0\n",
      "1687    90.0\n",
      "1700    60.0\n",
      "1701     0.5\n",
      "1702    75.0\n",
      "1714    10.0\n",
      "1722    80.0\n",
      "1724    35.0\n",
      "1736    90.0\n",
      "1746     1.0\n",
      "1753    60.0\n",
      "1765     5.0\n",
      "1766    85.0\n",
      "1773    80.0\n",
      "1775    95.0\n",
      "1785    50.0\n",
      "1793    30.0\n",
      "1798    55.0\n",
      "1799    25.0\n",
      "1800    10.0\n",
      "1803    40.0\n",
      "1808    10.0\n",
      "1816    30.0\n",
      "1827    15.0\n",
      "1833    90.0\n",
      "1842     1.0\n",
      "1847    60.0\n",
      "Name: AGEGROUP, dtype: float64\n",
      "10      AFR\n",
      "13      AFR\n",
      "40      AFR\n",
      "52      AFR\n",
      "54      AFR\n",
      "57      AFR\n",
      "67      AFR\n",
      "68      AFR\n",
      "70      AFR\n",
      "80      AFR\n",
      "91      AFR\n",
      "92      AFR\n",
      "102     AFR\n",
      "116     AFR\n",
      "123     AFR\n",
      "138     AFR\n",
      "140     AFR\n",
      "146     AFR\n",
      "147     AFR\n",
      "150     AFR\n",
      "159     AFR\n",
      "163     AFR\n",
      "164     AFR\n",
      "177     AFR\n",
      "179     AFR\n",
      "181     AFR\n",
      "190     AFR\n",
      "195     AFR\n",
      "203     AFR\n",
      "208     AFR\n",
      "       ... \n",
      "1645    WPR\n",
      "1646    WPR\n",
      "1653    WPR\n",
      "1678    WPR\n",
      "1687    WPR\n",
      "1700    WPR\n",
      "1701    WPR\n",
      "1702    WPR\n",
      "1714    WPR\n",
      "1722    WPR\n",
      "1724    WPR\n",
      "1736    WPR\n",
      "1746    WPR\n",
      "1753    WPR\n",
      "1765    WPR\n",
      "1766    WPR\n",
      "1773    WPR\n",
      "1775    WPR\n",
      "1785    WPR\n",
      "1793    WPR\n",
      "1798    WPR\n",
      "1799    WPR\n",
      "1800    WPR\n",
      "1803    WPR\n",
      "1808    WPR\n",
      "1816    WPR\n",
      "1827    WPR\n",
      "1833    WPR\n",
      "1842    WPR\n",
      "1847    WPR\n",
      "Name: REGION, dtype: object\n"
     ]
    },
    {
     "data": {
      "text/plain": [
       "[<matplotlib.lines.Line2D at 0x111097bd0>]"
      ]
     },
     "execution_count": 46,
     "metadata": {},
     "output_type": "execute_result"
    },
    {
     "data": {
      "image/png": "[encoded data removed]",
      "text/plain": [
       "<matplotlib.figure.Figure at 0x110a7d150>"
      ]
     },
     "metadata": {},
     "output_type": "display_data"
    }
   ],
   "source": [
    "# ts = result.Series(np.random.randn(1000), index=pd.date_range('1/1/2000', periods=1000))\n",
    "result.groupby(['REGION', 'YEAR', 'GHO', 'AGEGROUP', 'SEX'])\n",
    "\n",
    "print result[result.GHO == 31].Numeric\n",
    "print result[result.GHO == 31].AGEGROUP\n",
    "print result[result.GHO == 31].REGION\n",
    "\n",
    "plt.plot(result[result.GHO == 31].Numeric)"
   ]
  },
  {
   "cell_type": "code",
   "execution_count": 36,
   "metadata": {
    "collapsed": false
   },
   "outputs": [
    {
     "ename": "ValueError",
     "evalue": "setting an array element with a sequence.",
     "output_type": "error",
     "traceback": [
      "\u001b[0;31m---------------------------------------------------------------------------\u001b[0m",
      "\u001b[0;31mValueError\u001b[0m                                Traceback (most recent call last)",
      "\u001b[0;32m<ipython-input-36-12624c480c3d>\u001b[0m in \u001b[0;36m<module>\u001b[0;34m()\u001b[0m\n\u001b[0;32m----> 1\u001b[0;31m \u001b[0mplt\u001b[0m\u001b[0;34m.\u001b[0m\u001b[0mplot\u001b[0m\u001b[0;34m(\u001b[0m\u001b[0mresult\u001b[0m\u001b[0;34m.\u001b[0m\u001b[0mgroupby\u001b[0m\u001b[0;34m(\u001b[0m\u001b[0;34m[\u001b[0m\u001b[0;34m'REGION'\u001b[0m\u001b[0;34m,\u001b[0m \u001b[0;34m'YEAR'\u001b[0m\u001b[0;34m,\u001b[0m \u001b[0;34m'GHO'\u001b[0m\u001b[0;34m,\u001b[0m \u001b[0;34m'AGEGROUP'\u001b[0m\u001b[0;34m,\u001b[0m \u001b[0;34m'SEX'\u001b[0m\u001b[0;34m]\u001b[0m\u001b[0;34m)\u001b[0m\u001b[0;34m.\u001b[0m\u001b[0mmean\u001b[0m\u001b[0;34m(\u001b[0m\u001b[0;34m)\u001b[0m\u001b[0;34m)\u001b[0m\u001b[0;34m\u001b[0m\u001b[0m\n\u001b[0m",
      "\u001b[0;32m/usr/local/lib/python2.7/site-packages/matplotlib/pyplot.pyc\u001b[0m in \u001b[0;36mplot\u001b[0;34m(*args, **kwargs)\u001b[0m\n\u001b[1;32m   3152\u001b[0m         \u001b[0max\u001b[0m\u001b[0;34m.\u001b[0m\u001b[0mhold\u001b[0m\u001b[0;34m(\u001b[0m\u001b[0mhold\u001b[0m\u001b[0;34m)\u001b[0m\u001b[0;34m\u001b[0m\u001b[0m\n\u001b[1;32m   3153\u001b[0m     \u001b[0;32mtry\u001b[0m\u001b[0;34m:\u001b[0m\u001b[0;34m\u001b[0m\u001b[0m\n\u001b[0;32m-> 3154\u001b[0;31m         \u001b[0mret\u001b[0m \u001b[0;34m=\u001b[0m \u001b[0max\u001b[0m\u001b[0;34m.\u001b[0m\u001b[0mplot\u001b[0m\u001b[0;34m(\u001b[0m\u001b[0;34m*\u001b[0m\u001b[0margs\u001b[0m\u001b[0;34m,\u001b[0m \u001b[0;34m**\u001b[0m\u001b[0mkwargs\u001b[0m\u001b[0;34m)\u001b[0m\u001b[0;34m\u001b[0m\u001b[0m\n\u001b[0m\u001b[1;32m   3155\u001b[0m     \u001b[0;32mfinally\u001b[0m\u001b[0;34m:\u001b[0m\u001b[0;34m\u001b[0m\u001b[0m\n\u001b[1;32m   3156\u001b[0m         \u001b[0max\u001b[0m\u001b[0;34m.\u001b[0m\u001b[0mhold\u001b[0m\u001b[0;34m(\u001b[0m\u001b[0mwashold\u001b[0m\u001b[0;34m)\u001b[0m\u001b[0;34m\u001b[0m\u001b[0m\n",
      "\u001b[0;32m/usr/local/lib/python2.7/site-packages/matplotlib/__init__.pyc\u001b[0m in \u001b[0;36minner\u001b[0;34m(ax, *args, **kwargs)\u001b[0m\n\u001b[1;32m   1810\u001b[0m                     warnings.warn(msg % (label_namer, func.__name__),\n\u001b[1;32m   1811\u001b[0m                                   RuntimeWarning, stacklevel=2)\n\u001b[0;32m-> 1812\u001b[0;31m             \u001b[0;32mreturn\u001b[0m \u001b[0mfunc\u001b[0m\u001b[0;34m(\u001b[0m\u001b[0max\u001b[0m\u001b[0;34m,\u001b[0m \u001b[0;34m*\u001b[0m\u001b[0margs\u001b[0m\u001b[0;34m,\u001b[0m \u001b[0;34m**\u001b[0m\u001b[0mkwargs\u001b[0m\u001b[0;34m)\u001b[0m\u001b[0;34m\u001b[0m\u001b[0m\n\u001b[0m\u001b[1;32m   1813\u001b[0m         \u001b[0mpre_doc\u001b[0m \u001b[0;34m=\u001b[0m \u001b[0minner\u001b[0m\u001b[0;34m.\u001b[0m\u001b[0m__doc__\u001b[0m\u001b[0;34m\u001b[0m\u001b[0m\n\u001b[1;32m   1814\u001b[0m         \u001b[0;32mif\u001b[0m \u001b[0mpre_doc\u001b[0m \u001b[0;32mis\u001b[0m \u001b[0mNone\u001b[0m\u001b[0;34m:\u001b[0m\u001b[0;34m\u001b[0m\u001b[0m\n",
      "\u001b[0;32m/usr/local/lib/python2.7/site-packages/matplotlib/axes/_axes.pyc\u001b[0m in \u001b[0;36mplot\u001b[0;34m(self, *args, **kwargs)\u001b[0m\n\u001b[1;32m   1423\u001b[0m \u001b[0;34m\u001b[0m\u001b[0m\n\u001b[1;32m   1424\u001b[0m         \u001b[0;32mfor\u001b[0m \u001b[0mline\u001b[0m \u001b[0;32min\u001b[0m \u001b[0mself\u001b[0m\u001b[0;34m.\u001b[0m\u001b[0m_get_lines\u001b[0m\u001b[0;34m(\u001b[0m\u001b[0;34m*\u001b[0m\u001b[0margs\u001b[0m\u001b[0;34m,\u001b[0m \u001b[0;34m**\u001b[0m\u001b[0mkwargs\u001b[0m\u001b[0;34m)\u001b[0m\u001b[0;34m:\u001b[0m\u001b[0;34m\u001b[0m\u001b[0m\n\u001b[0;32m-> 1425\u001b[0;31m             \u001b[0mself\u001b[0m\u001b[0;34m.\u001b[0m\u001b[0madd_line\u001b[0m\u001b[0;34m(\u001b[0m\u001b[0mline\u001b[0m\u001b[0;34m)\u001b[0m\u001b[0;34m\u001b[0m\u001b[0m\n\u001b[0m\u001b[1;32m   1426\u001b[0m             \u001b[0mlines\u001b[0m\u001b[0;34m.\u001b[0m\u001b[0mappend\u001b[0m\u001b[0;34m(\u001b[0m\u001b[0mline\u001b[0m\u001b[0;34m)\u001b[0m\u001b[0;34m\u001b[0m\u001b[0m\n\u001b[1;32m   1427\u001b[0m \u001b[0;34m\u001b[0m\u001b[0m\n",
      "\u001b[0;32m/usr/local/lib/python2.7/site-packages/matplotlib/axes/_base.pyc\u001b[0m in \u001b[0;36madd_line\u001b[0;34m(self, line)\u001b[0m\n\u001b[1;32m   1706\u001b[0m             \u001b[0mline\u001b[0m\u001b[0;34m.\u001b[0m\u001b[0mset_clip_path\u001b[0m\u001b[0;34m(\u001b[0m\u001b[0mself\u001b[0m\u001b[0;34m.\u001b[0m\u001b[0mpatch\u001b[0m\u001b[0;34m)\u001b[0m\u001b[0;34m\u001b[0m\u001b[0m\n\u001b[1;32m   1707\u001b[0m \u001b[0;34m\u001b[0m\u001b[0m\n\u001b[0;32m-> 1708\u001b[0;31m         \u001b[0mself\u001b[0m\u001b[0;34m.\u001b[0m\u001b[0m_update_line_limits\u001b[0m\u001b[0;34m(\u001b[0m\u001b[0mline\u001b[0m\u001b[0;34m)\u001b[0m\u001b[0;34m\u001b[0m\u001b[0m\n\u001b[0m\u001b[1;32m   1709\u001b[0m         \u001b[0;32mif\u001b[0m \u001b[0;32mnot\u001b[0m \u001b[0mline\u001b[0m\u001b[0;34m.\u001b[0m\u001b[0mget_label\u001b[0m\u001b[0;34m(\u001b[0m\u001b[0;34m)\u001b[0m\u001b[0;34m:\u001b[0m\u001b[0;34m\u001b[0m\u001b[0m\n\u001b[1;32m   1710\u001b[0m             \u001b[0mline\u001b[0m\u001b[0;34m.\u001b[0m\u001b[0mset_label\u001b[0m\u001b[0;34m(\u001b[0m\u001b[0;34m'_line%d'\u001b[0m \u001b[0;34m%\u001b[0m \u001b[0mlen\u001b[0m\u001b[0;34m(\u001b[0m\u001b[0mself\u001b[0m\u001b[0;34m.\u001b[0m\u001b[0mlines\u001b[0m\u001b[0;34m)\u001b[0m\u001b[0;34m)\u001b[0m\u001b[0;34m\u001b[0m\u001b[0m\n",
      "\u001b[0;32m/usr/local/lib/python2.7/site-packages/matplotlib/axes/_base.pyc\u001b[0m in \u001b[0;36m_update_line_limits\u001b[0;34m(self, line)\u001b[0m\n\u001b[1;32m   1728\u001b[0m         \u001b[0mFigures\u001b[0m \u001b[0mout\u001b[0m \u001b[0mthe\u001b[0m \u001b[0mdata\u001b[0m \u001b[0mlimit\u001b[0m \u001b[0mof\u001b[0m \u001b[0mthe\u001b[0m \u001b[0mgiven\u001b[0m \u001b[0mline\u001b[0m\u001b[0;34m,\u001b[0m \u001b[0mupdating\u001b[0m \u001b[0mself\u001b[0m\u001b[0;34m.\u001b[0m\u001b[0mdataLim\u001b[0m\u001b[0;34m.\u001b[0m\u001b[0;34m\u001b[0m\u001b[0m\n\u001b[1;32m   1729\u001b[0m         \"\"\"\n\u001b[0;32m-> 1730\u001b[0;31m         \u001b[0mpath\u001b[0m \u001b[0;34m=\u001b[0m \u001b[0mline\u001b[0m\u001b[0;34m.\u001b[0m\u001b[0mget_path\u001b[0m\u001b[0;34m(\u001b[0m\u001b[0;34m)\u001b[0m\u001b[0;34m\u001b[0m\u001b[0m\n\u001b[0m\u001b[1;32m   1731\u001b[0m         \u001b[0;32mif\u001b[0m \u001b[0mpath\u001b[0m\u001b[0;34m.\u001b[0m\u001b[0mvertices\u001b[0m\u001b[0;34m.\u001b[0m\u001b[0msize\u001b[0m \u001b[0;34m==\u001b[0m \u001b[0;36m0\u001b[0m\u001b[0;34m:\u001b[0m\u001b[0;34m\u001b[0m\u001b[0m\n\u001b[1;32m   1732\u001b[0m             \u001b[0;32mreturn\u001b[0m\u001b[0;34m\u001b[0m\u001b[0m\n",
      "\u001b[0;32m/usr/local/lib/python2.7/site-packages/matplotlib/lines.pyc\u001b[0m in \u001b[0;36mget_path\u001b[0;34m(self)\u001b[0m\n\u001b[1;32m    923\u001b[0m         \"\"\"\n\u001b[1;32m    924\u001b[0m         \u001b[0;32mif\u001b[0m \u001b[0mself\u001b[0m\u001b[0;34m.\u001b[0m\u001b[0m_invalidy\u001b[0m \u001b[0;32mor\u001b[0m \u001b[0mself\u001b[0m\u001b[0;34m.\u001b[0m\u001b[0m_invalidx\u001b[0m\u001b[0;34m:\u001b[0m\u001b[0;34m\u001b[0m\u001b[0m\n\u001b[0;32m--> 925\u001b[0;31m             \u001b[0mself\u001b[0m\u001b[0;34m.\u001b[0m\u001b[0mrecache\u001b[0m\u001b[0;34m(\u001b[0m\u001b[0;34m)\u001b[0m\u001b[0;34m\u001b[0m\u001b[0m\n\u001b[0m\u001b[1;32m    926\u001b[0m         \u001b[0;32mreturn\u001b[0m \u001b[0mself\u001b[0m\u001b[0;34m.\u001b[0m\u001b[0m_path\u001b[0m\u001b[0;34m\u001b[0m\u001b[0m\n\u001b[1;32m    927\u001b[0m \u001b[0;34m\u001b[0m\u001b[0m\n",
      "\u001b[0;32m/usr/local/lib/python2.7/site-packages/matplotlib/lines.pyc\u001b[0m in \u001b[0;36mrecache\u001b[0;34m(self, always)\u001b[0m\n\u001b[1;32m    610\u001b[0m                 \u001b[0mx\u001b[0m \u001b[0;34m=\u001b[0m \u001b[0mma\u001b[0m\u001b[0;34m.\u001b[0m\u001b[0masarray\u001b[0m\u001b[0;34m(\u001b[0m\u001b[0mxconv\u001b[0m\u001b[0;34m,\u001b[0m \u001b[0mnp\u001b[0m\u001b[0;34m.\u001b[0m\u001b[0mfloat_\u001b[0m\u001b[0;34m)\u001b[0m\u001b[0;34m.\u001b[0m\u001b[0mfilled\u001b[0m\u001b[0;34m(\u001b[0m\u001b[0mnp\u001b[0m\u001b[0;34m.\u001b[0m\u001b[0mnan\u001b[0m\u001b[0;34m)\u001b[0m\u001b[0;34m\u001b[0m\u001b[0m\n\u001b[1;32m    611\u001b[0m             \u001b[0;32melse\u001b[0m\u001b[0;34m:\u001b[0m\u001b[0;34m\u001b[0m\u001b[0m\n\u001b[0;32m--> 612\u001b[0;31m                 \u001b[0mx\u001b[0m \u001b[0;34m=\u001b[0m \u001b[0mnp\u001b[0m\u001b[0;34m.\u001b[0m\u001b[0masarray\u001b[0m\u001b[0;34m(\u001b[0m\u001b[0mxconv\u001b[0m\u001b[0;34m,\u001b[0m \u001b[0mnp\u001b[0m\u001b[0;34m.\u001b[0m\u001b[0mfloat_\u001b[0m\u001b[0;34m)\u001b[0m\u001b[0;34m\u001b[0m\u001b[0m\n\u001b[0m\u001b[1;32m    613\u001b[0m             \u001b[0mx\u001b[0m \u001b[0;34m=\u001b[0m \u001b[0mx\u001b[0m\u001b[0;34m.\u001b[0m\u001b[0mravel\u001b[0m\u001b[0;34m(\u001b[0m\u001b[0;34m)\u001b[0m\u001b[0;34m\u001b[0m\u001b[0m\n\u001b[1;32m    614\u001b[0m         \u001b[0;32melse\u001b[0m\u001b[0;34m:\u001b[0m\u001b[0;34m\u001b[0m\u001b[0m\n",
      "\u001b[0;32m/usr/local/lib/python2.7/site-packages/numpy/core/numeric.pyc\u001b[0m in \u001b[0;36masarray\u001b[0;34m(a, dtype, order)\u001b[0m\n\u001b[1;32m    472\u001b[0m \u001b[0;34m\u001b[0m\u001b[0m\n\u001b[1;32m    473\u001b[0m     \"\"\"\n\u001b[0;32m--> 474\u001b[0;31m     \u001b[0;32mreturn\u001b[0m \u001b[0marray\u001b[0m\u001b[0;34m(\u001b[0m\u001b[0ma\u001b[0m\u001b[0;34m,\u001b[0m \u001b[0mdtype\u001b[0m\u001b[0;34m,\u001b[0m \u001b[0mcopy\u001b[0m\u001b[0;34m=\u001b[0m\u001b[0mFalse\u001b[0m\u001b[0;34m,\u001b[0m \u001b[0morder\u001b[0m\u001b[0;34m=\u001b[0m\u001b[0morder\u001b[0m\u001b[0;34m)\u001b[0m\u001b[0;34m\u001b[0m\u001b[0m\n\u001b[0m\u001b[1;32m    475\u001b[0m \u001b[0;34m\u001b[0m\u001b[0m\n\u001b[1;32m    476\u001b[0m \u001b[0;32mdef\u001b[0m \u001b[0masanyarray\u001b[0m\u001b[0;34m(\u001b[0m\u001b[0ma\u001b[0m\u001b[0;34m,\u001b[0m \u001b[0mdtype\u001b[0m\u001b[0;34m=\u001b[0m\u001b[0mNone\u001b[0m\u001b[0;34m,\u001b[0m \u001b[0morder\u001b[0m\u001b[0;34m=\u001b[0m\u001b[0mNone\u001b[0m\u001b[0;34m)\u001b[0m\u001b[0;34m:\u001b[0m\u001b[0;34m\u001b[0m\u001b[0m\n",
      "\u001b[0;31mValueError\u001b[0m: setting an array element with a sequence."
     ]
    },
    {
     "data": {
      "image/png": "[encoded data removed]",
      "text/plain": [
       "<matplotlib.figure.Figure at 0x10b69d450>"
      ]
     },
     "metadata": {},
     "output_type": "display_data"
    }
   ],
   "source": [
    "plt.plot(result.groupby(['REGION', 'YEAR', 'GHO', 'AGEGROUP', 'SEX']).mean())"
   ]
  },
  {
   "cell_type": "code",
   "execution_count": null,
   "metadata": {
    "collapsed": true
   },
   "outputs": [],
   "source": []
  }
 ],
 "metadata": {
  "kernelspec": {
   "display_name": "Python 2",
   "language": "python",
   "name": "python2"
  },
  "language_info": {
   "codemirror_mode": {
    "name": "ipython",
    "version": 2
   },
   "file_extension": ".py",
   "mimetype": "text/x-python",
   "name": "python",
   "nbconvert_exporter": "python",
   "pygments_lexer": "ipython2",
   "version": "2.7.10"
  }
 },
 "nbformat": 4,
 "nbformat_minor": 0
}
