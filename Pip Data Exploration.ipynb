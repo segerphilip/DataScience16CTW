{
 "cells": [
  {
   "cell_type": "markdown",
   "metadata": {},
   "source": [
    "# Reading NIH data file\n",
    "This is an example implementation of reading the `nispuf14.dat` file."
   ]
  },
  {
   "cell_type": "code",
   "execution_count": 2,
   "metadata": {
    "collapsed": false
   },
   "outputs": [
    {
     "name": "stdout",
     "output_type": "stream",
     "text": [
      "               GHO PUBLISHSTATE  YEAR REGION    AGEGROUP   SEX  Display Value  \\\n",
      "0  LIFE_0000000033    PUBLISHED  1990    AFR  AGE100PLUS  BTSX           60.0   \n",
      "1  LIFE_0000000035    PUBLISHED  2013    AFR    AGE85-89  BTSX            4.1   \n",
      "2  LIFE_0000000035    PUBLISHED  2000    AFR    AGE55-59  BTSX           18.8   \n",
      "3  LIFE_0000000032    PUBLISHED  2012    AFR    AGE45-49  FMLE         3411.0   \n",
      "4  LIFE_0000000035    PUBLISHED  1990    AFR    AGE25-29   MLE           38.8   \n",
      "\n",
      "      Numeric  Low  High  Comments  \n",
      "0    60.01235  NaN   NaN       NaN  \n",
      "1     4.14085  NaN   NaN       NaN  \n",
      "2    18.76440  NaN   NaN       NaN  \n",
      "3  3410.96100  NaN   NaN       NaN  \n",
      "4    38.79806  NaN   NaN       NaN  \n"
     ]
    }
   ],
   "source": [
    "import pandas as pd\n",
    "\n",
    "dfAfrica = pd.read_csv(\"africa.csv\")\n",
    "dfAmericas = pd.read_csv(\"americas.csv\")\n",
    "dfEMed = pd.read_csv(\"mediterranean.csv\")\n",
    "dfEurope = pd.read_csv(\"europe.csv\")\n",
    "dfSEAsia = pd.read_csv(\"asia.csv\")\n",
    "dfWPacific = pd.read_csv(\"pacific.csv\")\n",
    "\n",
    "df = [dfAfrica, dfAmericas, dfEMed, dfEurope, dfSEAsia, dfWPacific]\n",
    "\n",
    "result = pd.concat(df)\n",
    "\n",
    "print result.head()"
   ]
  },
  {
   "cell_type": "markdown",
   "metadata": {
    "collapsed": true
   },
   "source": [
    "We got data. Now need to fix the weird symbols in Age column."
   ]
  },
  {
   "cell_type": "code",
   "execution_count": 3,
   "metadata": {
    "collapsed": false
   },
   "outputs": [],
   "source": [
    "def cleanData(data):\n",
    "    data.AGEGROUP.replace((\"AGE100PLUS\", \"AGE95-99\", \"AGE90-94\", \"AGE85-89\", \n",
    "                             \"AGE80-84\", \"AGE75-79\", \"AGE70-74\", \"AGE65-69\", \n",
    "                             \"AGE60-64\", \"AGE55-59\", \"AGE50-54\", \"AGE45-49\", \n",
    "                             \"AGE40-44\", \"AGE35-39\", \"AGE30-34\", \"AGE25-29\", \n",
    "                             \"AGE20-24\", \"AGE15-19\", \"AGE10-14\", \"AGE5-9\", \n",
    "                             \"AGE1-4\", \"AGELT1\"), \n",
    "                          (100, 95, 90, 85, 80, 75, 70, 65, 60, 55, 50, \n",
    "                             45, 40, 35, 30, 25, 20, 15, 10, 5, 1, 0.5), \n",
    "                          inplace = True)\n",
    "    \n",
    "    data.SEX.replace((\"BTSX\", \"FMLE\", \"MLE\"), (2, 1, 0), inplace = True)\n",
    "    \n",
    "    # V not a continuous value, just for ease of referencing this column\n",
    "    data.GHO.replace((\"LIFE_0000000029\", \"LIFE_0000000030\", \"LIFE_0000000031\", \n",
    "                      \"LIFE_0000000032\", \"LIFE_0000000033\", \"LIFE_0000000034\",\n",
    "                      \"LIFE_0000000035\"),\n",
    "                     (29, 30, 31, 32, 33, 34, 35), inplace = True)\n",
    "    \n",
    "    data.drop([\"PUBLISHSTATE\", \"Low\", \"High\", \"Comments\", \"Display Value\"], \n",
    "              inplace = True, axis = 1)"
   ]
  },
  {
   "cell_type": "markdown",
   "metadata": {},
   "source": [
    "Meanings of values in GHO column:\n",
    "\n",
    "29  nMx - age-specific death rate between ages x and x+n\n",
    "\n",
    "30  nqx - probability of dying between ages x and x+n\n",
    "\n",
    "31  lx - number of people left alive at age x\n",
    "\n",
    "32  ndx - number of people dying between ages x and x+n\n",
    "\n",
    "33  nLx - person-years lived between ages x and x+n\n",
    "\n",
    "34  Tx - person-years lived above age x\n",
    "\n",
    "35  ex - expectation of life at age x"
   ]
  },
  {
   "cell_type": "code",
   "execution_count": 4,
   "metadata": {
    "collapsed": false
   },
   "outputs": [
    {
     "name": "stdout",
     "output_type": "stream",
     "text": [
      "   GHO  YEAR REGION  AGEGROUP  SEX     Numeric\n",
      "0   33  1990    AFR       100    2    60.01235\n",
      "1   35  2013    AFR        85    2     4.14085\n",
      "2   35  2000    AFR        55    2    18.76440\n",
      "3   32  2012    AFR        45    1  3410.96100\n",
      "4   35  1990    AFR        25    0    38.79806\n"
     ]
    }
   ],
   "source": [
    "cleanData(result)\n",
    "print result.head()"
   ]
  },
  {
   "cell_type": "markdown",
   "metadata": {},
   "source": [
    "Now let's graph some stuff."
   ]
  },
  {
   "cell_type": "code",
   "execution_count": 5,
   "metadata": {
    "collapsed": false
   },
   "outputs": [
    {
     "name": "stderr",
     "output_type": "stream",
     "text": [
      "/usr/local/lib/python2.7/site-packages/matplotlib/__init__.py:872: UserWarning: axes.color_cycle is deprecated and replaced with axes.prop_cycle; please use the latter.\n",
      "  warnings.warn(self.msg_depr % (key, alt_key))\n"
     ]
    }
   ],
   "source": [
    "import matplotlib as mpl\n",
    "import seaborn as sb\n",
    "import matplotlib.pyplot as plt\n",
    "import numpy as np\n",
    "%matplotlib inline"
   ]
  },
  {
   "cell_type": "markdown",
   "metadata": {},
   "source": [
    "Mackenzie is interested in trends across years by region. Philip is interested in comparing metric 31 and 32."
   ]
  },
  {
   "cell_type": "code",
   "execution_count": 7,
   "metadata": {
    "collapsed": false
   },
   "outputs": [
    {
     "name": "stdout",
     "output_type": "stream",
     "text": [
      "10      95.0\n",
      "13      10.0\n",
      "40       0.5\n",
      "52      45.0\n",
      "54      35.0\n",
      "57       1.0\n",
      "67      10.0\n",
      "68      25.0\n",
      "70      85.0\n",
      "80      50.0\n",
      "91      90.0\n",
      "92      75.0\n",
      "102     15.0\n",
      "116     85.0\n",
      "123     55.0\n",
      "138     30.0\n",
      "140     95.0\n",
      "146     15.0\n",
      "147     65.0\n",
      "150     60.0\n",
      "159     70.0\n",
      "163     10.0\n",
      "164     85.0\n",
      "177     40.0\n",
      "179     25.0\n",
      "181     65.0\n",
      "190     95.0\n",
      "195     50.0\n",
      "203     10.0\n",
      "208     55.0\n",
      "        ... \n",
      "1645    40.0\n",
      "1646    85.0\n",
      "1653     0.5\n",
      "1678    95.0\n",
      "1687    90.0\n",
      "1700    60.0\n",
      "1701     0.5\n",
      "1702    75.0\n",
      "1714    10.0\n",
      "1722    80.0\n",
      "1724    35.0\n",
      "1736    90.0\n",
      "1746     1.0\n",
      "1753    60.0\n",
      "1765     5.0\n",
      "1766    85.0\n",
      "1773    80.0\n",
      "1775    95.0\n",
      "1785    50.0\n",
      "1793    30.0\n",
      "1798    55.0\n",
      "1799    25.0\n",
      "1800    10.0\n",
      "1803    40.0\n",
      "1808    10.0\n",
      "1816    30.0\n",
      "1827    15.0\n",
      "1833    90.0\n",
      "1842     1.0\n",
      "1847    60.0\n",
      "Name: AGEGROUP, dtype: float64\n",
      "10      AFR\n",
      "13      AFR\n",
      "40      AFR\n",
      "52      AFR\n",
      "54      AFR\n",
      "57      AFR\n",
      "67      AFR\n",
      "68      AFR\n",
      "70      AFR\n",
      "80      AFR\n",
      "91      AFR\n",
      "92      AFR\n",
      "102     AFR\n",
      "116     AFR\n",
      "123     AFR\n",
      "138     AFR\n",
      "140     AFR\n",
      "146     AFR\n",
      "147     AFR\n",
      "150     AFR\n",
      "159     AFR\n",
      "163     AFR\n",
      "164     AFR\n",
      "177     AFR\n",
      "179     AFR\n",
      "181     AFR\n",
      "190     AFR\n",
      "195     AFR\n",
      "203     AFR\n",
      "208     AFR\n",
      "       ... \n",
      "1645    WPR\n",
      "1646    WPR\n",
      "1653    WPR\n",
      "1678    WPR\n",
      "1687    WPR\n",
      "1700    WPR\n",
      "1701    WPR\n",
      "1702    WPR\n",
      "1714    WPR\n",
      "1722    WPR\n",
      "1724    WPR\n",
      "1736    WPR\n",
      "1746    WPR\n",
      "1753    WPR\n",
      "1765    WPR\n",
      "1766    WPR\n",
      "1773    WPR\n",
      "1775    WPR\n",
      "1785    WPR\n",
      "1793    WPR\n",
      "1798    WPR\n",
      "1799    WPR\n",
      "1800    WPR\n",
      "1803    WPR\n",
      "1808    WPR\n",
      "1816    WPR\n",
      "1827    WPR\n",
      "1833    WPR\n",
      "1842    WPR\n",
      "1847    WPR\n",
      "Name: REGION, dtype: object\n"
     ]
    },
    {
     "data": {
      "image/png": "[encoded data removed]",
      "text/plain": [
       "<matplotlib.figure.Figure at 0x10c44af90>"
      ]
     },
     "metadata": {},
     "output_type": "display_data"
    }
   ],
   "source": [
    "# ts = result.Series(np.random.randn(1000), index=pd.date_range('1/1/2000', periods=1000))\n",
    "result.groupby(['REGION', 'YEAR', 'GHO', 'AGEGROUP', 'SEX'])\n",
    "\n",
    "alive = result[result.GHO == 31]\n",
    "bothAlives = alive[alive.SEX == 2]\n",
    "\n",
    "sortedExpec = bothAlives.AGEGROUP.sort_values()\n",
    "plt.plot(sortedExpec)\n",
    "\n",
    "print result[result.GHO == 31].AGEGROUP\n",
    "print result[result.GHO == 31].REGION\n",
    "\n",
    "# plt.plot(result[result.GHO == 31].Numeric)"
   ]
  },
  {
   "cell_type": "code",
   "execution_count": null,
   "metadata": {
    "collapsed": true
   },
   "outputs": [],
   "source": []
  }
 ],
 "metadata": {
  "kernelspec": {
   "display_name": "Python 2",
   "language": "python",
   "name": "python2"
  },
  "language_info": {
   "codemirror_mode": {
    "name": "ipython",
    "version": 2
   },
   "file_extension": ".py",
   "mimetype": "text/x-python",
   "name": "python",
   "nbconvert_exporter": "python",
   "pygments_lexer": "ipython2",
   "version": "2.7.10"
  }
 },
 "nbformat": 4,
 "nbformat_minor": 0
}
